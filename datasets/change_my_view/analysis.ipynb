{
 "cells": [
  {
   "cell_type": "code",
   "execution_count": 12,
   "metadata": {},
   "outputs": [
    {
     "data": {
      "text/plain": [
       "thread_id           31\n",
       "comment_id        1486\n",
       "sentence          9968\n",
       "comment           1485\n",
       "id               10126\n",
       "verif                3\n",
       "personal             2\n",
       "difficulty           2\n",
       "annotator            2\n",
       "annotation_id    10126\n",
       "created_at        7599\n",
       "updated_at        7599\n",
       "lead_time         6002\n",
       "dtype: int64"
      ]
     },
     "execution_count": 12,
     "metadata": {},
     "output_type": "execute_result"
    }
   ],
   "source": [
    "import pandas as pd\n",
    "\n",
    "test_set = pd.read_csv(\"./test_set.csv\")\n",
    "train_set = pd.read_csv(\"./train_set.csv\")\n",
    "\n",
    "all_data = pd.concat([test_set, train_set])\n",
    "\n",
    "all_data[\"verif\"] = pd.Categorical(all_data[\"verif\"])\n",
    "all_data[\"personal\"] = pd.Categorical(all_data[\"personal\"])\n",
    "all_data[\"difficulty\"] = pd.Categorical(all_data[\"difficulty\"])\n",
    "all_data[\"annotator\"] = pd.Categorical(all_data[\"annotator\"])\n",
    "\n",
    "all_data.nunique()"
   ]
  },
  {
   "cell_type": "markdown",
   "metadata": {},
   "source": [
    "## Inter-annotator agreement\n",
    "\n",
    "There are two annotators, so we first calculate Cohen's $\\kappa$ to\n",
    "determine inter-annotator reliability."
   ]
  },
  {
   "cell_type": "code",
   "execution_count": 41,
   "metadata": {},
   "outputs": [
    {
     "name": "stdout",
     "output_type": "stream",
     "text": [
      "Annotator 1 annotated 5,584 sentences, annotator 2 annotated 4,542. \n",
      "135 sentences were annotated by both annotators. \n",
      "On these 135 sentences, inter-annotator agreement was fair (Cohen's κ = 0.387).\n"
     ]
    }
   ],
   "source": [
    "from sklearn.metrics import cohen_kappa_score\n",
    "\n",
    "# Some info on the annotators\n",
    "annotator_count = all_data.groupby(by=\"annotator\")[\"id\"].count().to_dict()\n",
    "\n",
    "# Find sentences annotated by both annotators\n",
    "both_annotated = all_data[all_data.annotator == 1] \\\n",
    "    .merge(all_data[all_data.annotator == 2], how='inner', on='sentence') \\\n",
    "    [['sentence', 'verif_x', 'verif_y', 'personal_x', 'personal_y']]\n",
    "\n",
    "verif_kappa = cohen_kappa_score(both_annotated['verif_x'], both_annotated['verif_y'])\n",
    "\n",
    "def kappa_judgment(kappa):\n",
    "    if kappa < 0:\n",
    "        return \"none\"\n",
    "    elif kappa <= 0.20:\n",
    "        return \"slight\"\n",
    "    elif kappa <= 0.40:\n",
    "        return \"fair\"\n",
    "    elif kappa <= 0.60:\n",
    "        return \"moderate\"\n",
    "    elif kappa <= 0.80:\n",
    "        return \"substantial\"\n",
    "    else:\n",
    "        return \"almost perfect\"\n",
    "\n",
    "print(\n",
    "    f\"Annotator 1 annotated {annotator_count[1]:,} sentences, annotator 2 annotated {annotator_count[2]:,}.\",\n",
    "    f\"\\n{len(both_annotated)} sentences were annotated by both annotators.\",\n",
    "    f\"\\nOn these {len(both_annotated)} sentences, inter-annotator agreement was {kappa_judgment(verif_kappa)} (Cohen's κ = {verif_kappa:.03f}).\"\n",
    ")"
   ]
  },
  {
   "cell_type": "markdown",
   "metadata": {},
   "source": [
    "From this, we see that there are very few sentences that are annotated by both\n",
    "annotators, and between these, the inter-annotator agreement is only \"fair\"\n",
    "(Cohen's κ = 0.387). Note that this is the annotation on just verifiability, not\n",
    "taking into account experientiality. We assume the score would be even lower if\n",
    "this were taken into account as well."
   ]
  },
  {
   "cell_type": "markdown",
   "metadata": {},
   "source": [
    "## Class balance\n",
    "\n",
    "Next, we check class balance. For this, we first check verifiability and\n",
    "experientiality separately, and then check their combination."
   ]
  },
  {
   "cell_type": "code",
   "execution_count": 78,
   "metadata": {},
   "outputs": [
    {
     "data": {
      "text/plain": [
       "<AxesSubplot:>"
      ]
     },
     "execution_count": 78,
     "metadata": {},
     "output_type": "execute_result"
    },
    {
     "data": {
      "image/png": "[encoded data removed]",
      "text/plain": [
       "<Figure size 432x288 with 1 Axes>"
      ]
     },
     "metadata": {
      "needs_background": "light"
     },
     "output_type": "display_data"
    }
   ],
   "source": [
    "all_data[\"verif\"].value_counts().plot(kind='barh')"
   ]
  },
  {
   "cell_type": "code",
   "execution_count": 79,
   "metadata": {},
   "outputs": [
    {
     "data": {
      "text/plain": [
       "<AxesSubplot:>"
      ]
     },
     "execution_count": 79,
     "metadata": {},
     "output_type": "execute_result"
    },
    {
     "data": {
      "image/png": "[encoded data removed]",
      "text/plain": [
       "<Figure size 432x288 with 1 Axes>"
      ]
     },
     "metadata": {
      "needs_background": "light"
     },
     "output_type": "display_data"
    }
   ],
   "source": [
    "all_data[\"personal\"].value_counts().plot(kind='barh')"
   ]
  },
  {
   "cell_type": "code",
   "execution_count": 80,
   "metadata": {},
   "outputs": [
    {
     "data": {
      "text/plain": [
       "<AxesSubplot:>"
      ]
     },
     "execution_count": 80,
     "metadata": {},
     "output_type": "execute_result"
    },
    {
     "data": {
      "image/png": "[encoded data removed]",
      "text/plain": [
       "<Figure size 432x288 with 1 Axes>"
      ]
     },
     "metadata": {
      "needs_background": "light"
     },
     "output_type": "display_data"
    }
   ],
   "source": [
    "# Combine classes\n",
    "all_data['combined_label'] = all_data['verif'].astype(str) + all_data['personal'].astype(str).map(lambda x: '' if x == 'nan' else ', ' + x)\n",
    "n_combined_labels = all_data['combined_label'].value_counts().to_dict()\n",
    "\n",
    "# Add counts to labels\n",
    "all_data['combined_label'] = all_data['combined_label'].map(lambda l: f\"{l} ({n_combined_labels[l]:,})\")\n",
    "\n",
    "# Plot\n",
    "all_data[\"combined_label\"].value_counts().plot(kind='barh')"
   ]
  }
 ],
 "metadata": {
  "interpreter": {
   "hash": "a4869441383f563c26efdbcf3b03f612b85accfda035e271606ed4e892e45ac4"
  },
  "kernelspec": {
   "display_name": "Python 3.7.4 64-bit ('3.7.4')",
   "language": "python",
   "name": "python3"
  },
  "language_info": {
   "codemirror_mode": {
    "name": "ipython",
    "version": 3
   },
   "file_extension": ".py",
   "mimetype": "text/x-python",
   "name": "python",
   "nbconvert_exporter": "python",
   "pygments_lexer": "ipython3",
   "version": "3.7.4"
  },
  "orig_nbformat": 4
 },
 "nbformat": 4,
 "nbformat_minor": 2
}
