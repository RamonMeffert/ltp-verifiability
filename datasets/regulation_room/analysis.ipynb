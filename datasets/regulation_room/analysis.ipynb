{
 "cells": [
  {
   "cell_type": "code",
   "execution_count": 3,
   "metadata": {},
   "outputs": [
    {
     "data": {
      "text/plain": [
       "8755"
      ]
     },
     "execution_count": 3,
     "metadata": {},
     "output_type": "execute_result"
    }
   ],
   "source": [
    "import pandas as pd\n",
    "\n",
    "test_set = pd.read_csv(\"./test.csv\")\n",
    "train_set = pd.read_csv(\"./train.csv\")\n",
    "\n",
    "all_data = pd.concat([test_set, train_set])\n",
    "\n",
    "all_data[\"label\"] = pd.Categorical(all_data[\"label\"])\n",
    "\n",
    "all_data.nunique()"
   ]
  },
  {
   "cell_type": "code",
   "execution_count": 5,
   "metadata": {},
   "outputs": [
    {
     "data": {
      "text/plain": [
       "u    0.700286\n",
       "n    0.154997\n",
       "e    0.144717\n",
       "Name: label, dtype: float64"
      ]
     },
     "execution_count": 5,
     "metadata": {},
     "output_type": "execute_result"
    }
   ],
   "source": [
    "all_data['label'].value_counts() / len(all_data)"
   ]
  }
 ],
 "metadata": {
  "interpreter": {
   "hash": "a4869441383f563c26efdbcf3b03f612b85accfda035e271606ed4e892e45ac4"
  },
  "kernelspec": {
   "display_name": "Python 3.7.4 64-bit ('3.7.4')",
   "language": "python",
   "name": "python3"
  },
  "language_info": {
   "codemirror_mode": {
    "name": "ipython",
    "version": 3
   },
   "file_extension": ".py",
   "mimetype": "text/x-python",
   "name": "python",
   "nbconvert_exporter": "python",
   "pygments_lexer": "ipython3",
   "version": "3.7.4"
  },
  "orig_nbformat": 4
 },
 "nbformat": 4,
 "nbformat_minor": 2
}
