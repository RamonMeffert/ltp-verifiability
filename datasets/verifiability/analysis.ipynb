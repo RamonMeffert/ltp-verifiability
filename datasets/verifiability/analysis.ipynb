{
 "cells": [
  {
   "cell_type": "code",
   "execution_count": 5,
   "metadata": {},
   "outputs": [
    {
     "data": {
      "text/plain": [
       "Unnamed: 0        18881\n",
       "sentence          18689\n",
       "thread_id            33\n",
       "comment_id         2397\n",
       "sentence_index       65\n",
       "source                2\n",
       "verifiability         3\n",
       "experiential          2\n",
       "dtype: int64"
      ]
     },
     "execution_count": 5,
     "metadata": {},
     "output_type": "execute_result"
    }
   ],
   "source": [
    "import pandas as pd\n",
    "\n",
    "all_data = pd.read_csv(\"./all.csv\")\n",
    "\n",
    "all_data[\"verifiability\"] = pd.Categorical(all_data[\"verifiability\"])\n",
    "\n",
    "all_data.nunique()"
   ]
  },
  {
   "cell_type": "code",
   "execution_count": 8,
   "metadata": {},
   "outputs": [
    {
     "data": {
      "text/plain": [
       "unverifiable nan    0.640114\n",
       "verifiable False    0.195911\n",
       "verifiable True     0.093321\n",
       "nonargument nan     0.070600\n",
       "verifiable nan      0.000053\n",
       "Name: label, dtype: float64"
      ]
     },
     "execution_count": 8,
     "metadata": {},
     "output_type": "execute_result"
    }
   ],
   "source": [
    "all_data['label'] = all_data['verifiability'].astype(str) + ' ' + all_data['experiential'].astype(str)\n",
    "all_data['label'].value_counts() / len(all_data)"
   ]
  }
 ],
 "metadata": {
  "interpreter": {
   "hash": "a4869441383f563c26efdbcf3b03f612b85accfda035e271606ed4e892e45ac4"
  },
  "kernelspec": {
   "display_name": "Python 3.7.4 64-bit ('3.7.4')",
   "language": "python",
   "name": "python3"
  },
  "language_info": {
   "codemirror_mode": {
    "name": "ipython",
    "version": 3
   },
   "file_extension": ".py",
   "mimetype": "text/x-python",
   "name": "python",
   "nbconvert_exporter": "python",
   "pygments_lexer": "ipython3",
   "version": "3.7.4"
  },
  "orig_nbformat": 4
 },
 "nbformat": 4,
 "nbformat_minor": 2
}
